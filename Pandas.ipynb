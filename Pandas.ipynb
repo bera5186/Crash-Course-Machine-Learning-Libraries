{
 "cells": [
  {
   "cell_type": "markdown",
   "metadata": {},
   "source": [
    "# Pandas Crash Course  \n",
    "Pandas provides data structures and functionality to quickly manipulate and analyze data. The\n",
    "key to understanding Pandas for machine learning is understanding the Series and DataFrame\n",
    "data structures."
   ]
  },
  {
   "cell_type": "markdown",
   "metadata": {},
   "source": [
    "# Series\n",
    "A series is a one dimensional array where the rows and columns can be labeled."
   ]
  },
  {
   "cell_type": "code",
   "execution_count": 5,
   "metadata": {},
   "outputs": [
    {
     "name": "stdout",
     "output_type": "stream",
     "text": [
      " a     1\n",
      " b     2\n",
      " c     3\n",
      "dtype: int64\n",
      "3\n"
     ]
    }
   ],
   "source": [
    "import numpy \n",
    "import pandas\n",
    "myarray = numpy.array([1, 2, 3])\n",
    "rownames = [ ' a ' , ' b ' , ' c ' ]\n",
    "myseries = pandas.Series(myarray, index=rownames)\n",
    "print(myseries)\n",
    "print(myseries[-1])"
   ]
  },
  {
   "cell_type": "markdown",
   "metadata": {},
   "source": [
    "# DataFrame\n",
    "A data frame is a multi-dimensional array where the rows and the columns can be labeled."
   ]
  },
  {
   "cell_type": "code",
   "execution_count": 9,
   "metadata": {},
   "outputs": [
    {
     "name": "stdout",
     "output_type": "stream",
     "text": [
      "      one    two    three \n",
      " a       1      2        3\n",
      " b       4      5        6\n"
     ]
    }
   ],
   "source": [
    "# dataframe\n",
    "import numpy\n",
    "import pandas\n",
    "myarray = numpy.array([[1, 2, 3], [4, 5, 6]])\n",
    "rownames = [ ' a ' , ' b ' ]\n",
    "colnames = [ ' one ' , ' two ' , ' three ' ]\n",
    "mydataframe = pandas.DataFrame(myarray, index=rownames, columns=colnames)\n",
    "print(mydataframe)"
   ]
  },
  {
   "cell_type": "code",
   "execution_count": 11,
   "metadata": {},
   "outputs": [
    {
     "name": "stdout",
     "output_type": "stream",
     "text": [
      " a     1\n",
      " b     4\n",
      "Name:  one , dtype: int64\n"
     ]
    }
   ],
   "source": [
    "print(mydataframe[' one '])"
   ]
  }
 ],
 "metadata": {
  "kernelspec": {
   "display_name": "Python 3",
   "language": "python",
   "name": "python3"
  },
  "language_info": {
   "codemirror_mode": {
    "name": "ipython",
    "version": 3
   },
   "file_extension": ".py",
   "mimetype": "text/x-python",
   "name": "python",
   "nbconvert_exporter": "python",
   "pygments_lexer": "ipython3",
   "version": "3.6.5"
  }
 },
 "nbformat": 4,
 "nbformat_minor": 2
}
